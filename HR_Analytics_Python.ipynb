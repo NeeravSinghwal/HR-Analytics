{
 "cells": [
  {
   "cell_type": "code",
   "execution_count": 1,
   "id": "2634ae46",
   "metadata": {},
   "outputs": [],
   "source": [
    "import pandas as pd\n",
    "import numpy as np"
   ]
  },
  {
   "cell_type": "code",
   "execution_count": 38,
   "id": "810d647b",
   "metadata": {},
   "outputs": [
    {
     "name": "stdout",
     "output_type": "stream",
     "text": [
      "EmpID\n",
      "Age\n",
      "AgeGroup\n",
      "Attrition\n",
      "BusinessTravel\n",
      "DailyRate\n",
      "Department\n",
      "DistanceFromHome\n",
      "Education\n",
      "EducationField\n",
      "EmployeeCount\n",
      "EmployeeNumber\n",
      "EnvironmentSatisfaction\n",
      "Gender\n",
      "HourlyRate\n",
      "JobInvolvement\n",
      "JobLevel\n",
      "JobRole\n",
      "JobSatisfaction\n",
      "MaritalStatus\n",
      "MonthlyIncome\n",
      "SalarySlab\n",
      "MonthlyRate\n",
      "NumCompaniesWorked\n",
      "Over18\n",
      "OverTime\n",
      "PercentSalaryHike\n",
      "PerformanceRating\n",
      "RelationshipSatisfaction\n",
      "StandardHours\n",
      "StockOptionLevel\n",
      "TotalWorkingYears\n",
      "TrainingTimesLastYear\n",
      "WorkLifeBalance\n",
      "YearsAtCompany\n",
      "YearsInCurrentRole\n",
      "YearsSinceLastPromotion\n",
      "YearsWithCurrManager\n"
     ]
    }
   ],
   "source": [
    "df = pd.read_csv('HR_Analytics.csv')\n",
    "\n",
    "df.head()\n"
   ]
  },
  {
   "cell_type": "code",
   "execution_count": 18,
   "id": "69bf987c",
   "metadata": {},
   "outputs": [
    {
     "data": {
      "text/plain": [
       "1480"
      ]
     },
     "execution_count": 18,
     "metadata": {},
     "output_type": "execute_result"
    }
   ],
   "source": [
    "#Total employees\n",
    "\n",
    "df['EmpID'].count()\n"
   ]
  },
  {
   "cell_type": "code",
   "execution_count": 45,
   "id": "e072a07c",
   "metadata": {},
   "outputs": [
    {
     "data": {
      "text/plain": [
       "6505.0"
      ]
     },
     "execution_count": 45,
     "metadata": {},
     "output_type": "execute_result"
    }
   ],
   "source": [
    "#Average of Yearly Salary\n",
    "\n",
    "round(df['MonthlyIncome'].mean() * 12, 1)\n"
   ]
  },
  {
   "cell_type": "code",
   "execution_count": 48,
   "id": "b529021b",
   "metadata": {},
   "outputs": [
    {
     "data": {
      "text/plain": [
       "36.9"
      ]
     },
     "execution_count": 48,
     "metadata": {},
     "output_type": "execute_result"
    }
   ],
   "source": [
    "#Average age\n",
    "\n",
    "round(df['Age'].mean(),1)\n"
   ]
  },
  {
   "cell_type": "code",
   "execution_count": 99,
   "id": "ae050a60",
   "metadata": {},
   "outputs": [
    {
     "data": {
      "text/plain": [
       "2.7"
      ]
     },
     "execution_count": 99,
     "metadata": {},
     "output_type": "execute_result"
    }
   ],
   "source": [
    "#Average job satisfaction\n",
    "\n",
    "round(df['JobSatisfaction'].mean(),1)\n"
   ]
  },
  {
   "cell_type": "code",
   "execution_count": 51,
   "id": "3958dea8",
   "metadata": {},
   "outputs": [
    {
     "data": {
      "text/plain": [
       "JobRole\n",
       "Healthcare Representative     8.4\n",
       "Human Resources               5.3\n",
       "Laboratory Technician         5.0\n",
       "Manager                      14.4\n",
       "Manufacturing Director        7.6\n",
       "Research Director            10.9\n",
       "Research Scientist            5.1\n",
       "Sales Executive               7.5\n",
       "Sales Representative          2.9\n",
       "Name: YearsAtCompany, dtype: float64"
      ]
     },
     "execution_count": 51,
     "metadata": {},
     "output_type": "execute_result"
    }
   ],
   "source": [
    "#Average years at company by job role\n",
    "\n",
    "df.groupby('JobRole')['YearsAtCompany'].mean().sort_index().round(1)\n"
   ]
  },
  {
   "cell_type": "code",
   "execution_count": 55,
   "id": "373ec458",
   "metadata": {},
   "outputs": [
    {
     "data": {
      "text/plain": [
       "Department              JobLevel\n",
       "Human Resources         1            4.1\n",
       "                        2            6.5\n",
       "                        3            9.3\n",
       "                        4           19.8\n",
       "                        5           14.3\n",
       "Research & Development  1            4.1\n",
       "                        2            7.1\n",
       "                        3            9.7\n",
       "                        4           12.5\n",
       "                        5           14.4\n",
       "Sales                   1            2.6\n",
       "                        2            6.4\n",
       "                        3            8.8\n",
       "                        4           16.1\n",
       "                        5           18.4\n",
       "Name: YearsAtCompany, dtype: float64"
      ]
     },
     "execution_count": 55,
     "metadata": {},
     "output_type": "execute_result"
    }
   ],
   "source": [
    "#Average working years by department/job level\n",
    "\n",
    "df.groupby(['Department', 'JobLevel'])['YearsAtCompany'].mean().round(1)\n"
   ]
  },
  {
   "cell_type": "code",
   "execution_count": 9,
   "id": "b74df42e",
   "metadata": {
    "scrolled": true
   },
   "outputs": [
    {
     "data": {
      "text/plain": [
       "238"
      ]
     },
     "execution_count": 9,
     "metadata": {},
     "output_type": "execute_result"
    }
   ],
   "source": [
    "#Total attrition\n",
    "\n",
    "df['Attrition'].replace({'Yes': 1, 'No': 0}).sum()\n"
   ]
  },
  {
   "cell_type": "code",
   "execution_count": 21,
   "id": "b000fdbb",
   "metadata": {},
   "outputs": [
    {
     "data": {
      "text/plain": [
       "16.1"
      ]
     },
     "execution_count": 21,
     "metadata": {},
     "output_type": "execute_result"
    }
   ],
   "source": [
    "#Attrition rate (%)\n",
    "\n",
    "round((df['Attrition'].replace({'Yes': 1, 'No': 0}).mean()) * 100, 1)\n"
   ]
  },
  {
   "cell_type": "code",
   "execution_count": 67,
   "id": "00ddead9",
   "metadata": {},
   "outputs": [
    {
     "data": {
      "text/plain": [
       "Department\n",
       "Sales    0.21\n",
       "Name: Attrition, dtype: float64"
      ]
     },
     "execution_count": 67,
     "metadata": {},
     "output_type": "execute_result"
    }
   ],
   "source": [
    "#Which department has the highest attrition rate?\n",
    "\n",
    "round(df.replace({'Attrition': {'Yes': 1, 'No': 0}}).groupby('Department')['Attrition'].mean().sort_values(ascending = False),2).head(1)\n"
   ]
  },
  {
   "cell_type": "code",
   "execution_count": 86,
   "id": "cd48ae1c",
   "metadata": {},
   "outputs": [
    {
     "data": {
      "text/plain": [
       "OverTime\n",
       "No     10.0\n",
       "Yes    31.0\n",
       "Name: Attrition, dtype: float64"
      ]
     },
     "execution_count": 86,
     "metadata": {},
     "output_type": "execute_result"
    }
   ],
   "source": [
    "#Attrition rate % by overtime\n",
    "\n",
    "(round(df.replace({'Attrition': {'Yes': 1, 'No': 0}}).groupby('OverTime')['Attrition'].mean(),2))*100\n"
   ]
  },
  {
   "cell_type": "code",
   "execution_count": 90,
   "id": "d6e99929",
   "metadata": {},
   "outputs": [
    {
     "data": {
      "text/plain": [
       "Attrition\n",
       "No      8.94\n",
       "Yes    10.71\n",
       "Name: DistanceFromHome, dtype: float64"
      ]
     },
     "execution_count": 90,
     "metadata": {},
     "output_type": "execute_result"
    }
   ],
   "source": [
    "#Average distance from home vs. attrition\n",
    "\n",
    "round(df.groupby('Attrition')['DistanceFromHome'].mean(),2)\n"
   ]
  },
  {
   "cell_type": "code",
   "execution_count": 96,
   "id": "8d85df96",
   "metadata": {},
   "outputs": [
    {
     "data": {
      "text/plain": [
       "-0.104"
      ]
     },
     "execution_count": 96,
     "metadata": {},
     "output_type": "execute_result"
    }
   ],
   "source": [
    "#Correlation between job satisfaction and attrition\n",
    "\n",
    "round(df['JobSatisfaction'].corr(df['Attrition'].replace({'Yes': 1, 'No': 0})),3)\n"
   ]
  },
  {
   "cell_type": "code",
   "execution_count": 100,
   "id": "f11cc8b5",
   "metadata": {},
   "outputs": [
    {
     "data": {
      "text/plain": [
       "Department\n",
       "Human Resources            164\n",
       "Research & Development    2632\n",
       "Sales                     1237\n",
       "Name: JobSatisfaction, dtype: int64"
      ]
     },
     "execution_count": 100,
     "metadata": {},
     "output_type": "execute_result"
    }
   ],
   "source": [
    "#Sum of environment satisfaction by department\n",
    "\n",
    "df.groupby('Department')['EnvironmentSatisfaction'].sum()\n"
   ]
  },
  {
   "cell_type": "code",
   "execution_count": 103,
   "id": "e878895a",
   "metadata": {},
   "outputs": [
    {
     "data": {
      "text/plain": [
       "Department\n",
       "Human Resources           2.8\n",
       "Research & Development    2.7\n",
       "Sales                     2.8\n",
       "Name: JobSatisfaction, dtype: float64"
      ]
     },
     "execution_count": 103,
     "metadata": {},
     "output_type": "execute_result"
    }
   ],
   "source": [
    "#Top performers by department and their average satisfaction\n",
    "\n",
    "round(df[df['PerformanceRating'] == df['PerformanceRating'].max()].groupby('Department')['JobSatisfaction'].mean(),1)\n"
   ]
  },
  {
   "cell_type": "code",
   "execution_count": 106,
   "id": "1b24ecf7",
   "metadata": {},
   "outputs": [],
   "source": [
    "#Top Earners (emp_id) by job role\n",
    "\n",
    "df.loc[df['MonthlyIncome'] == df.groupby('JobRole')['MonthlyIncome'].transform('max'), ['JobRole', 'EmpID', 'MonthlyIncome']]\n"
   ]
  },
  {
   "cell_type": "code",
   "execution_count": 108,
   "id": "c15d2c90",
   "metadata": {},
   "outputs": [
    {
     "data": {
      "text/html": [
       "<div>\n",
       "<style scoped>\n",
       "    .dataframe tbody tr th:only-of-type {\n",
       "        vertical-align: middle;\n",
       "    }\n",
       "\n",
       "    .dataframe tbody tr th {\n",
       "        vertical-align: top;\n",
       "    }\n",
       "\n",
       "    .dataframe thead th {\n",
       "        text-align: right;\n",
       "    }\n",
       "</style>\n",
       "<table border=\"1\" class=\"dataframe\">\n",
       "  <thead>\n",
       "    <tr style=\"text-align: right;\">\n",
       "      <th></th>\n",
       "      <th>EmpID</th>\n",
       "      <th>Age</th>\n",
       "      <th>AgeGroup</th>\n",
       "      <th>Attrition</th>\n",
       "      <th>BusinessTravel</th>\n",
       "      <th>DailyRate</th>\n",
       "      <th>Department</th>\n",
       "      <th>DistanceFromHome</th>\n",
       "      <th>Education</th>\n",
       "      <th>EducationField</th>\n",
       "      <th>...</th>\n",
       "      <th>RelationshipSatisfaction</th>\n",
       "      <th>StandardHours</th>\n",
       "      <th>StockOptionLevel</th>\n",
       "      <th>TotalWorkingYears</th>\n",
       "      <th>TrainingTimesLastYear</th>\n",
       "      <th>WorkLifeBalance</th>\n",
       "      <th>YearsAtCompany</th>\n",
       "      <th>YearsInCurrentRole</th>\n",
       "      <th>YearsSinceLastPromotion</th>\n",
       "      <th>YearsWithCurrManager</th>\n",
       "    </tr>\n",
       "  </thead>\n",
       "  <tbody>\n",
       "    <tr>\n",
       "      <th>1452</th>\n",
       "      <td>RM127</td>\n",
       "      <td>58</td>\n",
       "      <td>55+</td>\n",
       "      <td>Yes</td>\n",
       "      <td>Travel_Rarely</td>\n",
       "      <td>147</td>\n",
       "      <td>Research &amp; Development</td>\n",
       "      <td>23</td>\n",
       "      <td>4</td>\n",
       "      <td>Medical</td>\n",
       "      <td>...</td>\n",
       "      <td>4</td>\n",
       "      <td>80</td>\n",
       "      <td>1</td>\n",
       "      <td>40</td>\n",
       "      <td>3</td>\n",
       "      <td>2</td>\n",
       "      <td>40</td>\n",
       "      <td>10</td>\n",
       "      <td>15</td>\n",
       "      <td>6.0</td>\n",
       "    </tr>\n",
       "    <tr>\n",
       "      <th>1455</th>\n",
       "      <td>RM596</td>\n",
       "      <td>58</td>\n",
       "      <td>55+</td>\n",
       "      <td>Yes</td>\n",
       "      <td>Travel_Rarely</td>\n",
       "      <td>286</td>\n",
       "      <td>Research &amp; Development</td>\n",
       "      <td>2</td>\n",
       "      <td>4</td>\n",
       "      <td>Life Sciences</td>\n",
       "      <td>...</td>\n",
       "      <td>4</td>\n",
       "      <td>80</td>\n",
       "      <td>0</td>\n",
       "      <td>40</td>\n",
       "      <td>2</td>\n",
       "      <td>3</td>\n",
       "      <td>31</td>\n",
       "      <td>15</td>\n",
       "      <td>13</td>\n",
       "      <td>8.0</td>\n",
       "    </tr>\n",
       "  </tbody>\n",
       "</table>\n",
       "<p>2 rows × 38 columns</p>\n",
       "</div>"
      ],
      "text/plain": [
       "      EmpID  Age AgeGroup Attrition BusinessTravel  DailyRate  \\\n",
       "1452  RM127   58      55+       Yes  Travel_Rarely        147   \n",
       "1455  RM596   58      55+       Yes  Travel_Rarely        286   \n",
       "\n",
       "                  Department  DistanceFromHome  Education EducationField  ...  \\\n",
       "1452  Research & Development                23          4        Medical  ...   \n",
       "1455  Research & Development                 2          4  Life Sciences  ...   \n",
       "\n",
       "      RelationshipSatisfaction  StandardHours  StockOptionLevel  \\\n",
       "1452                         4             80                 1   \n",
       "1455                         4             80                 0   \n",
       "\n",
       "     TotalWorkingYears  TrainingTimesLastYear  WorkLifeBalance  \\\n",
       "1452                40                      3                2   \n",
       "1455                40                      2                3   \n",
       "\n",
       "      YearsAtCompany YearsInCurrentRole  YearsSinceLastPromotion  \\\n",
       "1452              40                 10                       15   \n",
       "1455              31                 15                       13   \n",
       "\n",
       "     YearsWithCurrManager  \n",
       "1452                  6.0  \n",
       "1455                  8.0  \n",
       "\n",
       "[2 rows x 38 columns]"
      ]
     },
     "execution_count": 108,
     "metadata": {},
     "output_type": "execute_result"
    }
   ],
   "source": [
    "#Who are the most experienced and paid above average income employees?\n",
    "\n",
    "df[(df['TotalWorkingYears'] == df['TotalWorkingYears'].max()) & (df['MonthlyIncome'] > df['MonthlyIncome'].mean())]\n"
   ]
  },
  {
   "cell_type": "code",
   "execution_count": 112,
   "id": "c59117c2",
   "metadata": {},
   "outputs": [
    {
     "data": {
      "text/plain": [
       "SalarySlab\n",
       "Upto 5k     3190.84\n",
       "5k-10k      6836.95\n",
       "10k-15k    11914.51\n",
       "15k+       18059.36\n",
       "Name: MonthlyIncome, dtype: float64"
      ]
     },
     "execution_count": 112,
     "metadata": {},
     "output_type": "execute_result"
    }
   ],
   "source": [
    "#MonthlyIncome vs. SalarySlab — any inconsistencies?\n",
    "\n",
    "round(df.groupby('SalarySlab')['MonthlyIncome'].mean().sort_index(),2).sort_values()\n"
   ]
  },
  {
   "cell_type": "code",
   "execution_count": 114,
   "id": "90a98c67",
   "metadata": {},
   "outputs": [
    {
     "data": {
      "text/plain": [
       "Department              EducationField  \n",
       "Human Resources         Human Resources      27\n",
       "                        Life Sciences        16\n",
       "                        Medical              13\n",
       "                        Technical Degree      4\n",
       "                        Other                 3\n",
       "Research & Development  Life Sciences       441\n",
       "                        Medical             368\n",
       "                        Technical Degree     94\n",
       "                        Other                64\n",
       "Sales                   Marketing           161\n",
       "                        Life Sciences       150\n",
       "                        Medical              89\n",
       "                        Technical Degree     34\n",
       "                        Other                16\n",
       "Name: count, dtype: int64"
      ]
     },
     "execution_count": 114,
     "metadata": {},
     "output_type": "execute_result"
    }
   ],
   "source": [
    "#Distribution of Education Field by Department\n",
    "\n",
    "df.groupby('Department')['EducationField'].value_counts()\n"
   ]
  },
  {
   "cell_type": "code",
   "execution_count": 116,
   "id": "82129e63",
   "metadata": {},
   "outputs": [
    {
     "data": {
      "text/plain": [
       "TrainingTimesLastYear\n",
       "0    2.9\n",
       "1    2.7\n",
       "2    2.8\n",
       "3    2.6\n",
       "4    2.8\n",
       "5    2.7\n",
       "6    2.9\n",
       "Name: JobSatisfaction, dtype: float64"
      ]
     },
     "execution_count": 116,
     "metadata": {},
     "output_type": "execute_result"
    }
   ],
   "source": [
    "#Training effectiveness analysis\n",
    "\n",
    "round(df.groupby('TrainingTimesLastYear')['JobSatisfaction'].mean(),1)\n"
   ]
  }
 ],
 "metadata": {
  "kernelspec": {
   "display_name": "Python [conda env:base] *",
   "language": "python",
   "name": "conda-base-py"
  },
  "language_info": {
   "codemirror_mode": {
    "name": "ipython",
    "version": 3
   },
   "file_extension": ".py",
   "mimetype": "text/x-python",
   "name": "python",
   "nbconvert_exporter": "python",
   "pygments_lexer": "ipython3",
   "version": "3.13.5"
  }
 },
 "nbformat": 4,
 "nbformat_minor": 5
}
